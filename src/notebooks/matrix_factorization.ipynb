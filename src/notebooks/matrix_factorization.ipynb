{
 "cells": [
  {
   "cell_type": "markdown",
   "metadata": {},
   "source": [
    "# Практика по матричным разложениям"
   ]
  },
  {
   "cell_type": "code",
   "execution_count": null,
   "metadata": {},
   "outputs": [],
   "source": [
    "import os\n",
    "import sys"
   ]
  },
  {
   "cell_type": "code",
   "execution_count": null,
   "metadata": {},
   "outputs": [],
   "source": [
    "sys.path.append(os.path.join('..', '..'))"
   ]
  },
  {
   "cell_type": "code",
   "execution_count": null,
   "metadata": {},
   "outputs": [],
   "source": [
    "import matplotlib.pyplot as plt\n",
    "import numpy as np\n",
    "import pandas as pd\n",
    "import scipy.sparse as sp\n",
    "import warnings\n",
    "import zipfile\n",
    "\n",
    "from matplotlib import rcParams\n",
    "from sklearn.decomposition import TruncatedSVD, NMF\n",
    "\n",
    "from src.utils.common import get_data_folder, timeit\n",
    "\n",
    "%matplotlib inline\n",
    "rcParams['font.size'] = 14\n",
    "rcParams['figure.figsize'] = 7, 6\n",
    "\n",
    "warnings.filterwarnings('ignore')\n",
    "np.set_printoptions(formatter={'float': lambda x: \"{0:0.2f}\".format(x)})\n",
    "\n",
    "SEED = 3141952\n",
    "np.random.seed(SEED)"
   ]
  },
  {
   "cell_type": "markdown",
   "metadata": {},
   "source": [
    "### Handling the data"
   ]
  },
  {
   "cell_type": "code",
   "execution_count": null,
   "metadata": {},
   "outputs": [],
   "source": [
    "data_folder_path = get_data_folder()\n",
    "path_to_ml_archive = os.path.join(data_folder_path, 'ml-1m.zip')\n",
    "\n",
    "if not os.path.exists(os.path.join(data_folder_path, 'ml-1m')):\n",
    "    with zipfile.ZipFile(path_to_ml_archive, 'r') as f:\n",
    "        f.extractall(data_folder_path) "
   ]
  },
  {
   "cell_type": "code",
   "execution_count": null,
   "metadata": {},
   "outputs": [],
   "source": [
    "df_ratings = pd.read_csv(os.path.join(data_folder_path, 'ml-1m', 'ratings.dat'), \n",
    "                         delimiter='::', \n",
    "                         header=None, \n",
    "                         names=['user_id', 'movie_id', 'rating', 'timestamp']).drop(columns='timestamp')\n",
    "\n",
    "df_movie = pd.read_csv(os.path.join(data_folder_path, 'ml-1m', 'movies.dat'), \n",
    "                       delimiter='::',\n",
    "                       header=None, \n",
    "                       names=['movie_id', 'name', 'category'])"
   ]
  },
  {
   "cell_type": "code",
   "execution_count": null,
   "metadata": {},
   "outputs": [],
   "source": [
    "df_ratings.head(10)"
   ]
  },
  {
   "cell_type": "code",
   "execution_count": null,
   "metadata": {},
   "outputs": [],
   "source": [
    "df_ratings.shape"
   ]
  },
  {
   "cell_type": "code",
   "execution_count": null,
   "metadata": {},
   "outputs": [],
   "source": [
    "len(df_ratings['user_id'].unique()), len(df_ratings['movie_id'].unique())"
   ]
  },
  {
   "cell_type": "code",
   "execution_count": null,
   "metadata": {},
   "outputs": [],
   "source": [
    "df_movie.head(10)"
   ]
  },
  {
   "cell_type": "markdown",
   "metadata": {},
   "source": [
    "### Preprocessing"
   ]
  },
  {
   "cell_type": "code",
   "execution_count": null,
   "metadata": {},
   "outputs": [],
   "source": [
    "df_ratings_sample = df_ratings[(df_ratings['user_id'] < 500) & (df_ratings['movie_id'] < 100)]\n",
    "\n",
    "users = df_ratings_sample['user_id']\n",
    "movies = df_ratings_sample['movie_id']\n",
    "user_item_csr = sp.csr_matrix((df_ratings_sample['rating'], (users, movies)))"
   ]
  },
  {
   "cell_type": "code",
   "execution_count": null,
   "metadata": {},
   "outputs": [],
   "source": [
    "user_item_csr"
   ]
  },
  {
   "cell_type": "code",
   "execution_count": null,
   "metadata": {},
   "outputs": [],
   "source": [
    "user_item_csr[1, 1]"
   ]
  },
  {
   "cell_type": "markdown",
   "metadata": {},
   "source": [
    "### Алгоритмы"
   ]
  },
  {
   "cell_type": "markdown",
   "metadata": {},
   "source": [
    "#### SVD\n",
    "\n",
    "* docs: https://scikit-learn.org/stable/modules/generated/sklearn.decomposition.TruncatedSVD.html#sklearn.decomposition.TruncatedSVD\n",
    "* code: https://github.com/scikit-learn/scikit-learn/blob/95119c13a/sklearn/decomposition/_truncated_svd.py#L25"
   ]
  },
  {
   "cell_type": "code",
   "execution_count": null,
   "metadata": {},
   "outputs": [],
   "source": [
    "svd = TruncatedSVD(n_components=16, random_state=SEED)\n",
    "US = svd.fit_transform(user_item_csr)\n",
    "VT = svd.components_\n",
    "user_item_svd = np.dot(US, VT)"
   ]
  },
  {
   "cell_type": "code",
   "execution_count": null,
   "metadata": {},
   "outputs": [],
   "source": [
    "user_item_csr[:10, :10].toarray()"
   ]
  },
  {
   "cell_type": "code",
   "execution_count": null,
   "metadata": {},
   "outputs": [],
   "source": [
    "user_item_svd[:10, :10]"
   ]
  },
  {
   "cell_type": "code",
   "execution_count": null,
   "metadata": {},
   "outputs": [],
   "source": [
    "diff = user_item_csr - user_item_svd\n",
    "np.min(diff), np.mean(diff), np.max(diff)"
   ]
  },
  {
   "cell_type": "markdown",
   "metadata": {},
   "source": [
    "#### SGD"
   ]
  },
  {
   "cell_type": "code",
   "execution_count": null,
   "metadata": {},
   "outputs": [],
   "source": [
    "class SGDMF():\n",
    "    # From https://github.com/albertauyeung/matrix-factorization-in-python\n",
    "    def __init__(self, X, k, lr, lmbda, iterations):\n",
    "        \"\"\"\n",
    "        Perform matrix factorization to predict empty\n",
    "        entries in a matrix.\n",
    "\n",
    "        Arguments\n",
    "        - X (ndarray)      : user-item rating matrix\n",
    "        - k (int)          : number of latent dimensions\n",
    "        - lr (float)       : learning rate\n",
    "        - lmbda (float)    : regularization parameter\n",
    "        - iterations(int)  : number of sgd iterations\n",
    "        \"\"\"\n",
    "\n",
    "        self.X = X\n",
    "        self.num_users, self.num_items = X.shape\n",
    "        self.k = k\n",
    "        self.lr = lr\n",
    "        self.lmbda = lmbda\n",
    "        self.iterations = iterations\n",
    "\n",
    "    def train(self):\n",
    "        self.P = np.random.normal(scale=1. / self.k, size=(self.num_users, self.k))\n",
    "        self.Q = np.random.normal(scale=1. / self.k, size=(self.num_items, self.k))\n",
    "\n",
    "        self.b_u = np.zeros(self.num_users)\n",
    "        self.b_i = np.zeros(self.num_items)\n",
    "        self.b = np.mean(self.X[np.where(self.X != 0)])\n",
    "\n",
    "        self.samples = [\n",
    "            (i, j, self.X[i, j])\n",
    "            for i in range(self.num_users)\n",
    "            for j in range(self.num_items)\n",
    "            if self.X[i, j] > 0\n",
    "        ]\n",
    "\n",
    "        training_process = []\n",
    "        for i in range(self.iterations):\n",
    "            np.random.shuffle(self.samples)\n",
    "            self.sgd()\n",
    "            mse = self.mse()\n",
    "            training_process.append((i, mse))\n",
    "            if (i + 1) % 10 == 0:\n",
    "                print(\"Iteration: %d ; error = %.4f\" % (i + 1, mse))\n",
    "\n",
    "        return training_process\n",
    "\n",
    "    def mse(self):\n",
    "        xs, ys = self.X.nonzero()\n",
    "        predicted = self.full_matrix()\n",
    "        error = 0\n",
    "        for x, y in zip(xs, ys):\n",
    "            error += pow(self.X[x, y] - predicted[x, y], 2)\n",
    "        return np.sqrt(error)\n",
    "\n",
    "    def sgd(self):\n",
    "        for i, j, r in self.samples:\n",
    "            prediction = self.get_rating(i, j)\n",
    "            e = (r - prediction)\n",
    "\n",
    "            self.b_u[i] += self.lr * (e - self.lmbda * self.b_u[i])\n",
    "            self.b_i[j] += self.lr * (e - self.lmbda * self.b_i[j])\n",
    "\n",
    "            # Create copy of row of P since we need to update it but use older values for update on Q\n",
    "            P_i = self.P[i, :][:]\n",
    "\n",
    "            self.P[i, :] += self.lr * (e * self.Q[j, :] - self.lmbda * self.P[i, :])\n",
    "            self.Q[j, :] += self.lr * (e * P_i - self.lmbda * self.Q[j, :])\n",
    "\n",
    "    def get_rating(self, i, j):\n",
    "        return self.b + self.b_u[i] + self.b_i[j] + self.P[i, :].dot(self.Q[j, :].T)\n",
    "\n",
    "    def full_matrix(self):\n",
    "        return self.b + self.b_u[:, np.newaxis] + self.b_i[np.newaxis:, ] + self.P.dot(self.Q.T)"
   ]
  },
  {
   "cell_type": "code",
   "execution_count": null,
   "metadata": {},
   "outputs": [],
   "source": [
    "sgd = SGDMF(X=user_item_csr.toarray(), k=16, lr=0.1, lmbda=0.1, iterations=10)\n",
    "sgd.train()"
   ]
  },
  {
   "cell_type": "code",
   "execution_count": null,
   "metadata": {},
   "outputs": [],
   "source": [
    "user_item_sgd = sgd.full_matrix()"
   ]
  },
  {
   "cell_type": "code",
   "execution_count": null,
   "metadata": {},
   "outputs": [],
   "source": [
    "user_item_csr[:10, :10].toarray()"
   ]
  },
  {
   "cell_type": "code",
   "execution_count": null,
   "metadata": {},
   "outputs": [],
   "source": [
    "user_item_sgd[:10, :10]"
   ]
  },
  {
   "cell_type": "markdown",
   "metadata": {},
   "source": [
    "#### NMF\n",
    "\n",
    "* docs: https://scikit-learn.org/stable/modules/generated/sklearn.decomposition.NMF.html#sklearn.decomposition.NMF\n",
    "* code: https://github.com/scikit-learn/scikit-learn/blob/95119c13a/sklearn/decomposition/_nmf.py#L1096"
   ]
  },
  {
   "cell_type": "code",
   "execution_count": null,
   "metadata": {},
   "outputs": [],
   "source": [
    "nmf = NMF(n_components=16, random_state=SEED)\n",
    "W = nmf.fit_transform(user_item_csr)\n",
    "H = nmf.components_\n",
    "user_item_nmf = np.dot(W, H)"
   ]
  },
  {
   "cell_type": "code",
   "execution_count": null,
   "metadata": {},
   "outputs": [],
   "source": [
    "W, W.shape"
   ]
  },
  {
   "cell_type": "code",
   "execution_count": null,
   "metadata": {},
   "outputs": [],
   "source": [
    "H, H.shape"
   ]
  },
  {
   "cell_type": "code",
   "execution_count": null,
   "metadata": {},
   "outputs": [],
   "source": [
    "user_item_nmf.shape"
   ]
  },
  {
   "cell_type": "code",
   "execution_count": null,
   "metadata": {},
   "outputs": [],
   "source": [
    "user_item_csr[:10, :10].toarray()"
   ]
  },
  {
   "cell_type": "code",
   "execution_count": null,
   "metadata": {},
   "outputs": [],
   "source": [
    "user_item_nmf[:10, :10]"
   ]
  },
  {
   "cell_type": "code",
   "execution_count": null,
   "metadata": {},
   "outputs": [],
   "source": []
  }
 ],
 "metadata": {
  "kernelspec": {
   "display_name": "Python 3",
   "language": "python",
   "name": "python3"
  },
  "language_info": {
   "codemirror_mode": {
    "name": "ipython",
    "version": 3
   },
   "file_extension": ".py",
   "mimetype": "text/x-python",
   "name": "python",
   "nbconvert_exporter": "python",
   "pygments_lexer": "ipython3",
   "version": "3.7.5"
  }
 },
 "nbformat": 4,
 "nbformat_minor": 4
}
