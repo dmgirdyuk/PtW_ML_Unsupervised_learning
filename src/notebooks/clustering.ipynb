{
 "cells": [
  {
   "cell_type": "markdown",
   "metadata": {},
   "source": [
    "# Практика по кластеризации"
   ]
  },
  {
   "cell_type": "code",
   "execution_count": null,
   "metadata": {},
   "outputs": [],
   "source": [
    "import ipywidgets as widgets\n",
    "import matplotlib.pyplot as plt\n",
    "import numpy as np\n",
    "import os\n",
    "import pandas as pd\n",
    "import seaborn as sns\n",
    "import warnings\n",
    "\n",
    "from IPython.display import display\n",
    "from functools import lru_cache\n",
    "from ipywidgets import interact, fixed, IntSlider, FloatSlider\n",
    "from sklearn.base import TransformerMixin\n",
    "from sklearn.cluster import (MeanShift, AgglomerativeClustering, DBSCAN,\n",
    "                             MiniBatchKMeans, KMeans, \n",
    "                             SpectralClustering)\n",
    "from sklearn.mixture import GaussianMixture\n",
    "from sklearn.preprocessing import StandardScaler, MinMaxScaler"
   ]
  },
  {
   "cell_type": "code",
   "execution_count": null,
   "metadata": {},
   "outputs": [],
   "source": [
    "os.chdir(os.path.join('..', '..'))"
   ]
  },
  {
   "cell_type": "code",
   "execution_count": null,
   "metadata": {},
   "outputs": [],
   "source": [
    "from definitions import DATA_DIR\n",
    "from src.utils import timeit"
   ]
  },
  {
   "cell_type": "code",
   "execution_count": null,
   "metadata": {},
   "outputs": [],
   "source": [
    "%matplotlib inline\n",
    "warnings.filterwarnings('ignore')\n",
    "\n",
    "SEED = 5\n",
    "np.random.seed(SEED)"
   ]
  },
  {
   "cell_type": "markdown",
   "metadata": {},
   "source": [
    "### Используемые данные.\n",
    "Проточная цитометрия — метод исследования дисперсных сред в режиме поштучного анализа элементов дисперсной фазы по сигналам светорассеяния и флуоресценции. Название метода связано с основным приложением, а именно, с исследованием одиночных биологических клеток в потоке.\n",
    "<img src=\"../../misc/cytometry.png\" width=\"680\"/>"
   ]
  },
  {
   "cell_type": "code",
   "execution_count": null,
   "metadata": {},
   "outputs": [],
   "source": [
    "dfs = [pd.read_csv(os.path.join(DATA_DIR, 'flowcytometry', file_name)) \n",
    "       for file_name in os.listdir(os.path.join(DATA_DIR, 'flowcytometry'))]\n",
    "df = dfs[0]"
   ]
  },
  {
   "cell_type": "code",
   "execution_count": null,
   "metadata": {},
   "outputs": [],
   "source": [
    "df.describe()"
   ]
  },
  {
   "cell_type": "code",
   "execution_count": null,
   "metadata": {},
   "outputs": [],
   "source": [
    "for ind, df in enumerate(dfs):\n",
    "    print(f'Patient {ind + 1}:', df.isnull().any().sum())"
   ]
  },
  {
   "cell_type": "code",
   "execution_count": null,
   "metadata": {},
   "outputs": [],
   "source": [
    "fig, ax = plt.subplots(figsize=(10, 9))\n",
    "sns.heatmap(df.corr(),cmap='coolwarm', ax=ax, annot=True, linewidths=2)"
   ]
  },
  {
   "cell_type": "code",
   "execution_count": null,
   "metadata": {},
   "outputs": [],
   "source": [
    "fig, ax = plt.subplots(figsize=(9, 9))\n",
    "sns.scatterplot(df['FSC-A-'], df['SSC-A-'])\n",
    "fig.canvas.draw()"
   ]
  },
  {
   "cell_type": "markdown",
   "metadata": {},
   "source": [
    "### Кластеризация"
   ]
  },
  {
   "cell_type": "code",
   "execution_count": null,
   "metadata": {},
   "outputs": [],
   "source": [
    "clustering = {\n",
    "    'kmeans': {'method': KMeans, \n",
    "               'params_range': {'n_clusters': IntSlider(min=2, max=10), \n",
    "                                'random_state': fixed(SEED)}},\n",
    "    'dbscan': {'method': DBSCAN, \n",
    "               'params_range': {'eps': FloatSlider(min=0.05, max=1.5, step=0.05), \n",
    "                                'min_samples': IntSlider(min=1, max=25)}}\n",
    "}\n",
    "\n",
    "method_name = 'dbscan'\n",
    "params_range = clustering[method_name]['params_range']\n",
    "X = dfs[5][['FSC-A-', 'SSC-A-']]"
   ]
  },
  {
   "cell_type": "code",
   "execution_count": null,
   "metadata": {},
   "outputs": [],
   "source": [
    "class InteractiveClusterer:\n",
    "    def __init__(self, method: str, params_range: dict, \n",
    "                 X: pd.DataFrame, \n",
    "                 scaler: TransformerMixin = None):\n",
    "        self.method = method\n",
    "        self.clusterer = None\n",
    "        self.params_range = params_range\n",
    "        self.X = X\n",
    "        \n",
    "        if scaler is not None:\n",
    "            X[X.columns] = scaler.fit_transform(X)\n",
    "    \n",
    "    @lru_cache(maxsize=None)\n",
    "    def fit(self, **kwargs):\n",
    "        self.clusterer = self.method(**kwargs)\n",
    "        self.clusterer.fit(self.X)\n",
    "        \n",
    "        return self.clusterer.labels_\n",
    "    \n",
    "    def plot(self, **kwargs):\n",
    "        labels = self.fit(**kwargs)\n",
    "        fig, ax = plt.subplots(figsize=(9, 9))\n",
    "        sns.scatterplot(self.X['FSC-A-'], self.X['SSC-A-'], labels)\n",
    "        fig.canvas.draw()"
   ]
  },
  {
   "cell_type": "code",
   "execution_count": null,
   "metadata": {},
   "outputs": [],
   "source": [
    "scaler = StandardScaler(with_mean=True, with_std=True)  #MinMaxScaler()\n",
    "clusterer = InteractiveClusterer(**clustering[method_name], \n",
    "                                 X=X, \n",
    "                                 scaler=scaler)\n",
    "\n",
    "interact(clusterer.plot, **params_range)"
   ]
  },
  {
   "cell_type": "code",
   "execution_count": null,
   "metadata": {},
   "outputs": [],
   "source": []
  }
 ],
 "metadata": {
  "kernelspec": {
   "display_name": "Python 3",
   "language": "python",
   "name": "python3"
  },
  "language_info": {
   "codemirror_mode": {
    "name": "ipython",
    "version": 3
   },
   "file_extension": ".py",
   "mimetype": "text/x-python",
   "name": "python",
   "nbconvert_exporter": "python",
   "pygments_lexer": "ipython3",
   "version": "3.8.5"
  }
 },
 "nbformat": 4,
 "nbformat_minor": 2
}
