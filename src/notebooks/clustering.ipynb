{
 "cells": [
  {
   "cell_type": "markdown",
   "metadata": {},
   "source": [
    "# Практика по кластеризации"
   ]
  },
  {
   "cell_type": "code",
   "execution_count": null,
   "metadata": {},
   "outputs": [],
   "source": [
    "import ipywidgets as widgets\n",
    "import matplotlib.pyplot as plt\n",
    "import numpy as np\n",
    "import os\n",
    "import pandas as pd\n",
    "import seaborn as sns\n",
    "import warnings\n",
    "\n",
    "from IPython.display import display\n",
    "from abc import ABCMeta\n",
    "from functools import lru_cache\n",
    "from ipywidgets import interact, fixed, IntSlider, FloatSlider\n",
    "from matplotlib import rcParams\n",
    "from sklearn.base import TransformerMixin\n",
    "from sklearn.cluster import (MeanShift, AgglomerativeClustering, DBSCAN,\n",
    "                             MiniBatchKMeans, KMeans, \n",
    "                             SpectralClustering)\n",
    "from sklearn.mixture import GaussianMixture\n",
    "from sklearn.preprocessing import StandardScaler, MinMaxScaler"
   ]
  },
  {
   "cell_type": "code",
   "execution_count": null,
   "metadata": {},
   "outputs": [],
   "source": [
    "os.chdir(os.path.join('..', '..'))"
   ]
  },
  {
   "cell_type": "code",
   "execution_count": null,
   "metadata": {},
   "outputs": [],
   "source": [
    "from definitions import DATA_DIR\n",
    "from src.utils import timeit"
   ]
  },
  {
   "cell_type": "code",
   "execution_count": null,
   "metadata": {},
   "outputs": [],
   "source": [
    "%matplotlib inline\n",
    "rcParams['font.size'] = 14\n",
    "\n",
    "warnings.filterwarnings('ignore')\n",
    "\n",
    "SEED = 5\n",
    "np.random.seed(SEED)"
   ]
  },
  {
   "cell_type": "markdown",
   "metadata": {},
   "source": [
    "### Используемые данные.\n",
    "Проточная цитометрия — метод исследования дисперсных сред в режиме поштучного анализа элементов дисперсной фазы по сигналам светорассеяния и флуоресценции. Название метода связано с основным приложением, а именно, с исследованием одиночных биологических клеток в потоке.\n",
    "<img src=\"../../misc/cytometry.png\" width=\"680\"/>"
   ]
  },
  {
   "cell_type": "code",
   "execution_count": null,
   "metadata": {},
   "outputs": [],
   "source": [
    "dfs = [pd.read_csv(os.path.join(DATA_DIR, 'flowcytometry', file_name)) \n",
    "       for file_name in os.listdir(os.path.join(DATA_DIR, 'flowcytometry'))]\n",
    "patient_num = 4"
   ]
  },
  {
   "cell_type": "code",
   "execution_count": null,
   "metadata": {},
   "outputs": [],
   "source": [
    "dfs[patient_num].describe()"
   ]
  },
  {
   "cell_type": "code",
   "execution_count": null,
   "metadata": {},
   "outputs": [],
   "source": [
    "for ind, df in enumerate(dfs):\n",
    "    print(f'Patient {ind + 1}:', df.isnull().any().sum())"
   ]
  },
  {
   "cell_type": "code",
   "execution_count": null,
   "metadata": {},
   "outputs": [],
   "source": [
    "fig, ax = plt.subplots(figsize=(10, 10))\n",
    "sns.heatmap(dfs[patient_num].corr(), cmap='coolwarm', ax=ax, annot=True, linewidths=2)"
   ]
  },
  {
   "cell_type": "code",
   "execution_count": null,
   "metadata": {},
   "outputs": [],
   "source": [
    "fig, ax = plt.subplots(figsize=(10, 8))\n",
    "sns.scatterplot(dfs[patient_num]['FSC-A-'], dfs[patient_num]['SSC-A-'], s=6, palette = \"coolwarm\")\n",
    "fig.canvas.draw()"
   ]
  },
  {
   "cell_type": "markdown",
   "metadata": {},
   "source": [
    "### Кластеризация"
   ]
  },
  {
   "cell_type": "code",
   "execution_count": null,
   "metadata": {},
   "outputs": [],
   "source": [
    "clustering = {\n",
    "    'meanshift': {'method': MeanShift, \n",
    "                  'params_range': {'bandwidth': list(np.arange(0.3, 1.5, 0.05)) + [None], \n",
    "                                   'bin_seeding': [True, False], \n",
    "                                   'n_jobs': [*range(1, 5), -1]}\n",
    "                 }, \n",
    "    'agglomerative': {'method': AgglomerativeClustering, \n",
    "                      'params_range': {'n_clusters': [*range(2, 50)], \n",
    "                                       'affinity': ['euclidean', 'manhattan'], \n",
    "                                       'linkage': ['ward', 'complete', 'average', 'single']}}, \n",
    "    'dbscan': {'method': DBSCAN, \n",
    "               'params_range': {'eps': [*np.arange(0.01, 0.5, 0.01)], \n",
    "                                'min_samples': [*range(1, 25)], \n",
    "                                'metric': ['euclidean', 'manhattan'],\n",
    "                                'n_jobs': [*range(1, 5), -1]}},\n",
    "    'em': {'method': GaussianMixture, \n",
    "           'params_range': {'n_components': [*range(2, 50)], \n",
    "                            'covariance_type': ['full', 'tied', 'diag', 'spherical'],\n",
    "                            'n_init': [*range(1, 6)],\n",
    "                            'init_params': ['kmeans', 'random'],\n",
    "                            'random_state': fixed(SEED)}}, \n",
    "    'kmeans': {'method': KMeans, \n",
    "               'params_range': {'n_clusters': [*range(2, 50)],\n",
    "                                'n_init': [*range(5, 25)],\n",
    "                                'random_state': fixed(SEED), \n",
    "                                'n_jobs': [*range(1, 5), -1]}},\n",
    "    'mbkmeans': {'method': MiniBatchKMeans, \n",
    "                 'params_range': {'n_clusters': [*range(2, 50)], \n",
    "                                  'batch_size': [*range(100, 1001, 100)],\n",
    "                                  'n_init': [*range(3, 8)],\n",
    "                                  'random_state': fixed(SEED)}},\n",
    "    'spectral': {'method': SpectralClustering, \n",
    "                 'params_range': {'n_clusters': [*range(2, 50)], \n",
    "                                  'n_components': [*range(2, 50)],\n",
    "                                  'affinity': ['nearest_neighbors', 'rbf'], \n",
    "                                  'gamma': [*np.arange(0.5, 2, 0.1)],\n",
    "                                  'n_neighbors': [*range(1, 25)],                         \n",
    "                                  'assign_labels': ['kmeans', 'discretize'], \n",
    "                                  'n_init': [*range(10, 25)],\n",
    "                                  'random_state': fixed(SEED), \n",
    "                                  'n_jobs': [*range(1, 5), -1]}}\n",
    "}"
   ]
  },
  {
   "cell_type": "code",
   "execution_count": null,
   "metadata": {},
   "outputs": [],
   "source": [
    "class InteractiveClusterer:\n",
    "    def __init__(self, method: str, params_range: dict, \n",
    "                 X: pd.DataFrame, \n",
    "                 scaler: TransformerMixin = None):\n",
    "        self.method = method\n",
    "        self.clusterer = None\n",
    "        self.params_range = params_range\n",
    "        self.X = X\n",
    "        \n",
    "        if scaler is not None:\n",
    "            X[X.columns] = scaler.fit_transform(X)\n",
    "    \n",
    "    @lru_cache(maxsize=None)\n",
    "    def fit(self, **kwargs):\n",
    "        self.clusterer = self.method(**kwargs)\n",
    "        self.clusterer.fit(self.X)\n",
    "        # for gmm case\n",
    "        if not isinstance(self.method, ABCMeta):\n",
    "            return self.clusterer.labels_  \n",
    "        else:\n",
    "            return self.clusterer.predict(self.X)\n",
    "    \n",
    "    def plot2d(self, \n",
    "               print_clust_num=False, \n",
    "               dots_size=5, \n",
    "               palette = 'coolwarm', \n",
    "               **kwargs):\n",
    "        labels = self.fit(**kwargs)\n",
    "        if print_clust_num:\n",
    "            print('Число кластеров:', len(set(labels)))\n",
    "        fig, ax = plt.subplots(figsize=(10, 10))\n",
    "        sns.scatterplot(self.X['FSC-A-'], self.X['SSC-A-'], labels, s=dots_size, palette=palette)\n",
    "        fig.canvas.draw()"
   ]
  },
  {
   "cell_type": "code",
   "execution_count": null,
   "metadata": {},
   "outputs": [],
   "source": [
    "method_name = 'em'\n",
    "params_range = clustering[method_name]['params_range']\n",
    "X = dfs[patient_num][['FSC-A-', 'SSC-A-']]"
   ]
  },
  {
   "cell_type": "code",
   "execution_count": null,
   "metadata": {},
   "outputs": [],
   "source": [
    "scaler = StandardScaler(with_mean=True, with_std=True)  #MinMaxScaler()\n",
    "clusterer = InteractiveClusterer(**clustering[method_name], \n",
    "                                 X=X, \n",
    "                                 scaler=scaler)"
   ]
  },
  {
   "cell_type": "code",
   "execution_count": null,
   "metadata": {},
   "outputs": [],
   "source": [
    "interact(clusterer.plot2d, \n",
    "         print_clust_num=True, \n",
    "         dots_size=[*range(1, 15)], \n",
    "         palette='coolwarm', \n",
    "         **params_range)"
   ]
  },
  {
   "cell_type": "code",
   "execution_count": null,
   "metadata": {},
   "outputs": [],
   "source": []
  }
 ],
 "metadata": {
  "kernelspec": {
   "display_name": "Python 3",
   "language": "python",
   "name": "python3"
  },
  "language_info": {
   "codemirror_mode": {
    "name": "ipython",
    "version": 3
   },
   "file_extension": ".py",
   "mimetype": "text/x-python",
   "name": "python",
   "nbconvert_exporter": "python",
   "pygments_lexer": "ipython3",
   "version": "3.8.5"
  }
 },
 "nbformat": 4,
 "nbformat_minor": 2
}
