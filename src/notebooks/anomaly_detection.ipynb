{
 "cells": [
  {
   "cell_type": "markdown",
   "metadata": {},
   "source": [
    "# Поиск аномалий"
   ]
  },
  {
   "cell_type": "markdown",
   "metadata": {},
   "source": [
    "Рассматривается вариант обучения без учителя на данных  [superstore](https://community.tableau.com/s/question/0D54T00000CWeX8SAL/sample-superstore-sales-excelxls)"
   ]
  },
  {
   "cell_type": "markdown",
   "metadata": {},
   "source": [
    "### Загрузка библиотек и данных"
   ]
  },
  {
   "cell_type": "code",
   "execution_count": null,
   "metadata": {},
   "outputs": [],
   "source": [
    "import matplotlib as mpl\n",
    "import matplotlib.pyplot as plt\n",
    "import numpy as np\n",
    "import os\n",
    "import pandas as pd\n",
    "import scipy as sp\n",
    "import seaborn as sns\n",
    "\n",
    "from pyod.models.abod import ABOD\n",
    "from pyod.models.cblof import CBLOF\n",
    "from pyod.models.feature_bagging import FeatureBagging\n",
    "from pyod.models.hbos import HBOS\n",
    "from pyod.models.iforest import IForest\n",
    "from pyod.models.knn import KNN\n",
    "from pyod.models.lof import LOF\n",
    "from pyod.models.mcd import MCD\n",
    "from pyod.models.ocsvm import OCSVM\n",
    "from pyod.models.pca import PCA\n",
    "\n",
    "from sklearn.ensemble import IsolationForest\n",
    "\n",
    "%matplotlib inline"
   ]
  },
  {
   "cell_type": "code",
   "execution_count": null,
   "metadata": {},
   "outputs": [],
   "source": [
    "os.chdir(os.path.join('..', '..'))"
   ]
  },
  {
   "cell_type": "code",
   "execution_count": null,
   "metadata": {},
   "outputs": [],
   "source": [
    "from definitions import DATA_DIR\n",
    "from src.utils.plots import plot_ad"
   ]
  },
  {
   "cell_type": "code",
   "execution_count": null,
   "metadata": {},
   "outputs": [],
   "source": [
    "SEED = 42\n",
    "\n",
    "np.random.seed(SEED)"
   ]
  },
  {
   "cell_type": "code",
   "execution_count": null,
   "metadata": {},
   "outputs": [],
   "source": [
    "df = pd.read_excel(os.path.join(DATA_DIR, 'superstore.xls'))"
   ]
  },
  {
   "cell_type": "markdown",
   "metadata": {},
   "source": [
    "### Рассмотрим одномерные распределения и аномалии"
   ]
  },
  {
   "cell_type": "markdown",
   "metadata": {},
   "source": [
    "Распределение продаж"
   ]
  },
  {
   "cell_type": "code",
   "execution_count": null,
   "metadata": {},
   "outputs": [],
   "source": [
    "fig = plt.scatter(range(df.shape[0]), np.sort(df['Sales'].values))\n",
    "plt.xlabel('Индекс')\n",
    "plt.ylabel('Продажи')\n",
    "plt.show(fig)"
   ]
  },
  {
   "cell_type": "code",
   "execution_count": null,
   "metadata": {},
   "outputs": [],
   "source": [
    "fig = sns.histplot(df['Sales'])\n",
    "plt.title('Распределение продаж')\n",
    "plt.xlabel('Продажи')\n",
    "fig.set(xlim=(0, 1500))\n",
    "plt.show(fig)"
   ]
  },
  {
   "cell_type": "markdown",
   "metadata": {},
   "source": [
    "Явно видно что раcпределение не является нормальным.\n",
    "\n",
    "Также можно предположить, что регион с низкой вероятностю будет являться аномалией"
   ]
  },
  {
   "cell_type": "markdown",
   "metadata": {},
   "source": [
    "Используем алгоритм Isolation Forest для поиска аномали в данном распределении, со следующим порядком действий\n",
    "- Обучение IsolationForest с использованием данных о продажах\n",
    "- Вычисление значения аномалии для каждого наблюдения  \n",
    "- Классификация каждого наблюдения как аномалии или нормы\n",
    "- Визуализация регионов"
   ]
  },
  {
   "cell_type": "code",
   "execution_count": null,
   "metadata": {},
   "outputs": [],
   "source": [
    "isolation_forest = IsolationForest(n_estimators=100, contamination = 0.1)\n",
    "isolation_forest.fit(df['Sales'].values.reshape(-1, 1))\n",
    "\n",
    "xx = np.linspace(df['Sales'].min(), df['Sales'].max(), len(df)).reshape(-1,1)\n",
    "anomaly_score = isolation_forest.decision_function(xx)\n",
    "outlier = isolation_forest.predict(xx)\n",
    "\n",
    "fig, ax = plt.subplots(figsize=(10,4))\n",
    "plt.plot(xx, anomaly_score, label='оценка аномалии')\n",
    "plt.fill_between(xx.T[0], np.min(anomaly_score), np.max(anomaly_score), \n",
    "                 where=outlier==-1, color='r', \n",
    "                 alpha=.4, label='аномальная область')\n",
    "plt.legend()\n",
    "plt.ylabel('Оценка аномалии')\n",
    "plt.xlabel('Продажи')\n",
    "plt.title(f'Аномальная часть для продаж начинается с {outlier.tolist().index(-1)}')\n",
    "plt.show();"
   ]
  },
  {
   "cell_type": "markdown",
   "metadata": {},
   "source": [
    "Проверяем значения дохода схожим методом"
   ]
  },
  {
   "cell_type": "code",
   "execution_count": null,
   "metadata": {},
   "outputs": [],
   "source": [
    "fig = plt.scatter(range(df.shape[0]), np.sort(df['Profit'].values))\n",
    "plt.xlabel('Индекс')\n",
    "plt.ylabel('Доход')\n",
    "plt.show(fig)"
   ]
  },
  {
   "cell_type": "code",
   "execution_count": null,
   "metadata": {},
   "outputs": [],
   "source": [
    "fig = sns.histplot(df['Profit'])\n",
    "plt.title(\"Распределение доходов\")\n",
    "fig.set(xlim=(-500, 500))\n",
    "plt.show(fig)"
   ]
  },
  {
   "cell_type": "markdown",
   "metadata": {},
   "source": [
    "Два аномальных региона -- отрицательный и положительный"
   ]
  },
  {
   "cell_type": "code",
   "execution_count": null,
   "metadata": {},
   "outputs": [],
   "source": [
    "isolation_forest = IsolationForest(n_estimators=100, contamination = 0.1)\n",
    "isolation_forest.fit(df['Profit'].values.reshape(-1, 1))\n",
    "\n",
    "xx = np.linspace(df['Profit'].min(), df['Profit'].max(), len(df)).reshape(-1,1)\n",
    "anomaly_score = isolation_forest.decision_function(xx)\n",
    "outlier = isolation_forest.predict(xx)\n",
    "\n",
    "plt.figure(figsize=(10,4))\n",
    "plt.plot(xx, anomaly_score, label='оценка аномалии')\n",
    "plt.fill_between(xx.T[0], np.min(anomaly_score), np.max(anomaly_score), \n",
    "                 where=outlier==-1, color='r', \n",
    "                 alpha=.4, label='аномальная область')\n",
    "plt.legend()\n",
    "plt.ylabel('Оценка аномалии')\n",
    "plt.xlabel('Продажи')\n",
    "plt.show();"
   ]
  },
  {
   "cell_type": "markdown",
   "metadata": {},
   "source": [
    "### Многомерный случай"
   ]
  },
  {
   "cell_type": "markdown",
   "metadata": {},
   "source": [
    "Рассмотрим соотношение доходов и продаж"
   ]
  },
  {
   "cell_type": "code",
   "execution_count": null,
   "metadata": {},
   "outputs": [],
   "source": [
    "fig = sns.regplot(x=\"Sales\", y=\"Profit\", data=df)\n",
    "plt.ylabel('Доход')\n",
    "plt.xlabel('Продажи')\n",
    "plt.show(fig)"
   ]
  },
  {
   "cell_type": "markdown",
   "metadata": {},
   "source": [
    "Используется библиотека [PyOD](https://pyod.readthedocs.io/en/latest/)\n",
    "\n",
    "В данном случае аномальным считаем 1% от общего числа данных "
   ]
  },
  {
   "cell_type": "code",
   "execution_count": null,
   "metadata": {},
   "outputs": [],
   "source": [
    "outliers = 0.01\n",
    "\n",
    "classifiers = {\n",
    "    'Cluster-based Local Outlier Factor (CBLOF)':\n",
    "        CBLOF(contamination=outliers,\n",
    "              check_estimator=False, random_state=SEED),\n",
    "    'Histogram-base Outlier Detection (HBOS)': HBOS(\n",
    "        contamination=outliers),\n",
    "    'Isolation Forest': IForest(contamination=outliers,\n",
    "                                behaviour=\"new\",\n",
    "                                random_state=SEED),\n",
    "    'K Nearest Neighbors (KNN)': KNN(\n",
    "        contamination=outliers),\n",
    "    'Average KNN': KNN(method='mean',\n",
    "                       contamination=outliers),\n",
    "    'Local Outlier Factor (LOF)':\n",
    "        LOF(n_neighbors=35, contamination=outliers),\n",
    "    'Minimum Covariance Determinant (MCD)': MCD(\n",
    "        contamination=outliers, random_state=SEED),\n",
    "    'One-class SVM (OCSVM)': OCSVM(contamination=outliers),\n",
    "    'Principal Component Analysis (PCA)': PCA(\n",
    "        contamination=outliers, random_state=SEED)\n",
    "}"
   ]
  },
  {
   "cell_type": "code",
   "execution_count": null,
   "metadata": {},
   "outputs": [],
   "source": [
    "fig = plot_ad(df = df, models = classifiers, outliers_fraction = outliers)\n",
    "fig"
   ]
  },
  {
   "cell_type": "code",
   "execution_count": null,
   "metadata": {},
   "outputs": [],
   "source": []
  }
 ],
 "metadata": {
  "kernelspec": {
   "display_name": "Python 3",
   "language": "python",
   "name": "python3"
  },
  "language_info": {
   "codemirror_mode": {
    "name": "ipython",
    "version": 3
   },
   "file_extension": ".py",
   "mimetype": "text/x-python",
   "name": "python",
   "nbconvert_exporter": "python",
   "pygments_lexer": "ipython3",
   "version": "3.8.5"
  }
 },
 "nbformat": 4,
 "nbformat_minor": 2
}
