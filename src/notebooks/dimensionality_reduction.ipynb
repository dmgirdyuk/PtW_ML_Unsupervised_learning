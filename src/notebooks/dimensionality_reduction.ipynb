{
 "cells": [
  {
   "cell_type": "markdown",
   "metadata": {},
   "source": [
    "# Практика по снижению размерности"
   ]
  },
  {
   "cell_type": "code",
   "execution_count": null,
   "metadata": {},
   "outputs": [],
   "source": [
    "import os\n",
    "import sys"
   ]
  },
  {
   "cell_type": "code",
   "execution_count": null,
   "metadata": {},
   "outputs": [],
   "source": [
    "sys.path.append(os.path.join('..', '..'))"
   ]
  },
  {
   "cell_type": "code",
   "execution_count": null,
   "metadata": {},
   "outputs": [],
   "source": [
    "import matplotlib.pyplot as plt\n",
    "import numpy as np\n",
    "import pandas as pd\n",
    "import seaborn as sns\n",
    "import warnings\n",
    "\n",
    "from matplotlib import rcParams\n",
    "from mpl_toolkits.mplot3d import Axes3D\n",
    "from sklearn import datasets\n",
    "from sklearn.decomposition import PCA, KernelPCA\n",
    "from sklearn.manifold import Isomap, LocallyLinearEmbedding, MDS, SpectralEmbedding, TSNE\n",
    "from sklearn.preprocessing import StandardScaler, MinMaxScaler\n",
    "# from umap import UMAP\n",
    "\n",
    "from src.utils.common import get_data_folder, timeit\n",
    "\n",
    "%matplotlib notebook\n",
    "rcParams['font.size'] = 14\n",
    "rcParams['figure.figsize'] = 7, 6\n",
    "\n",
    "warnings.filterwarnings('ignore')\n",
    "\n",
    "SEED = 3141952\n",
    "np.random.seed(SEED)"
   ]
  },
  {
   "cell_type": "code",
   "execution_count": null,
   "metadata": {},
   "outputs": [],
   "source": [
    "X, scurve_labels = datasets.make_s_curve(1300, random_state=SEED)\n",
    "df_scurve = pd.DataFrame(data = X, columns=['dim1', 'dim2', 'dim3'])\n",
    "\n",
    "data_folder = get_data_folder()\n",
    "df_flow = pd.read_csv(os.path.join(data_folder, 'flowcytometry', 'patient_1.csv'), index_col=0)\n",
    "df_is = pd.read_csv(os.path.join(data_folder, 'df_is.csv'), index_col=0)"
   ]
  },
  {
   "cell_type": "markdown",
   "metadata": {},
   "source": [
    "### Кратко о данных\n",
    "\n",
    "* df_scruve -- стандартный пример для иллюстрации нелинейных техник\n",
    "* df_flow -- с лекции по кластеризации\n",
    "* df_is -- датасет с замерами иммунного статуса. Иммунный статус -- комплексная оценка иммунитета на основе исследования субпопуляций лимфоцитов. Значения *_rel == * / lymph * 100"
   ]
  },
  {
   "cell_type": "code",
   "execution_count": null,
   "metadata": {},
   "outputs": [],
   "source": [
    "scurve_cols = ['dim1', 'dim2', 'dim3']"
   ]
  },
  {
   "cell_type": "code",
   "execution_count": null,
   "metadata": {},
   "outputs": [],
   "source": [
    "flow_cols = [\n",
    "    'FSC-A-', 'SSC-A-', 'FITC-A-CD25', 'PE-A-CD127',\n",
    "    'PerCP-Cy5-5-A-CD4', 'PE-Cy7-A-', 'APC-A-', 'APC-Cy7-A-',\n",
    "    'Pacific Blue-A-', 'AmCyan-A-'\n",
    "]"
   ]
  },
  {
   "cell_type": "code",
   "execution_count": null,
   "metadata": {},
   "outputs": [],
   "source": [
    "is_cols = [\n",
    "    'lymph',                  # лимфоциты\n",
    "    't_lymph', 't_lymph_rel', # T-лимфоциты и производные\n",
    "    't_help', 't_help_rel',\n",
    "    'ctl', 'ctl_rel',\n",
    "    'b_lymph', 'b_lymph_rel', # B-лимфоциты\n",
    "    'nk', 'nk_rel',           # Натуральные киллеры\n",
    "    'cd4_cd8'                 # Индекс на основе частного T-хелперов и цитоксических Т-лимфоцитов (ЦТЛ)\n",
    "]\n",
    "df_is = df_is[is_cols]"
   ]
  },
  {
   "cell_type": "code",
   "execution_count": null,
   "metadata": {},
   "outputs": [],
   "source": [
    "df_is.head()"
   ]
  },
  {
   "cell_type": "code",
   "execution_count": null,
   "metadata": {},
   "outputs": [],
   "source": [
    "df_is.describe()"
   ]
  },
  {
   "cell_type": "code",
   "execution_count": null,
   "metadata": {},
   "outputs": [],
   "source": [
    "df_is.isna().sum()"
   ]
  },
  {
   "cell_type": "code",
   "execution_count": null,
   "metadata": {},
   "outputs": [],
   "source": [
    "def scatterplot2d(df, col1, col2, \n",
    "                  labels=None, \n",
    "                  dots_size=6, palette='coolwarm'):\n",
    "    fig, _ = plt.subplots()\n",
    "    sns.scatterplot(df[col1], df[col2], hue=labels, s=dots_size, palette=palette)\n",
    "    fig.canvas.draw()\n",
    "\n",
    "def scatterplot3d(df, col1, col2, col3,\n",
    "                  labels=None, \n",
    "                  dots_size=6, palette='coolwarm'):\n",
    "    fig = plt.figure()\n",
    "    ax = fig.add_subplot(111, projection = '3d')\n",
    "\n",
    "    x, y, z = df[col1], df[col2], df[col3]\n",
    "    \n",
    "    ax.set_xlabel('dim1')\n",
    "    ax.set_ylabel('dim2')\n",
    "    ax.set_zlabel('dim3')\n",
    "    \n",
    "    if labels is not None and labels.dtype.type == np.str_:\n",
    "        colors = 'rgbcmy'\n",
    "        for i, g in enumerate(np.unique(labels)):\n",
    "            ix = np.where(labels == g)\n",
    "            ax.scatter(x.iloc[ix], y.iloc[ix], z.iloc[ix], c=colors[i], label=g)\n",
    "        ax.legend()\n",
    "    else:\n",
    "        ax.scatter(x, y, z, c=labels, cmap=plt.cm.Spectral)\n",
    "    plt.show()"
   ]
  },
  {
   "cell_type": "markdown",
   "metadata": {},
   "source": [
    "### Preprocessing"
   ]
  },
  {
   "cell_type": "markdown",
   "metadata": {},
   "source": [
    "#### S curve"
   ]
  },
  {
   "cell_type": "code",
   "execution_count": null,
   "metadata": {},
   "outputs": [],
   "source": [
    "df_scurve.describe()"
   ]
  },
  {
   "cell_type": "code",
   "execution_count": null,
   "metadata": {},
   "outputs": [],
   "source": [
    "# сделаем дыру в данных\n",
    "scurve_mask = df_scurve['dim1'] ** 2 + (df_scurve['dim2'] - 1) ** 2 >= 0.2\n",
    "df_scurve = df_scurve[scurve_mask]\n",
    "scurve_labels = scurve_labels[scurve_mask]"
   ]
  },
  {
   "cell_type": "code",
   "execution_count": null,
   "metadata": {},
   "outputs": [],
   "source": [
    "scatterplot3d(df_scurve, \n",
    "              col1='dim1', col2='dim2', col3='dim3', \n",
    "              labels=scurve_labels)"
   ]
  },
  {
   "cell_type": "code",
   "execution_count": null,
   "metadata": {},
   "outputs": [],
   "source": [
    "df_scurve_scaled = df_scurve.copy()\n",
    "scurve_scaler = StandardScaler()\n",
    "df_scurve_scaled[scurve_cols] = scurve_scaler.fit_transform(df_scurve_scaled[scurve_cols])"
   ]
  },
  {
   "cell_type": "code",
   "execution_count": null,
   "metadata": {},
   "outputs": [],
   "source": [
    "scatterplot3d(df_scurve_scaled, \n",
    "              col1='dim1', col2='dim2', col3='dim3', \n",
    "              labels=scurve_labels)"
   ]
  },
  {
   "cell_type": "markdown",
   "metadata": {},
   "source": [
    "#### Flowcytometry"
   ]
  },
  {
   "cell_type": "code",
   "execution_count": null,
   "metadata": {},
   "outputs": [],
   "source": [
    "# избавимся от части выбросов\n",
    "flow_mask = (df_flow['FSC-A-'] > 200000) | (df_flow['SSC-A-'] > 240000)\n",
    "df_flow = df_flow.drop(df_flow[flow_mask].index).reset_index()"
   ]
  },
  {
   "cell_type": "code",
   "execution_count": null,
   "metadata": {},
   "outputs": [],
   "source": [
    "# сэмплируем\n",
    "df_flow = df_flow.sample(1000)"
   ]
  },
  {
   "cell_type": "code",
   "execution_count": null,
   "metadata": {},
   "outputs": [],
   "source": [
    "# разметка субпопуляций вручную\n",
    "def find_flow_labels(df):\n",
    "    conditions = [\n",
    "        (df['FSC-A-'] < 40000) & (df['SSC-A-'] < 35000), \n",
    "        (df['FSC-A-'].between(35000, 100000)) & (df['SSC-A-'] < 50000),\n",
    "        (df['FSC-A-'].between(75000, 150000)) & (df['SSC-A-'].between(50000, 90000)),\n",
    "        (df['FSC-A-'].between(75000, 200000)) & (df['SSC-A-'].between(90000, 250000))\n",
    "    ]\n",
    "    values = ['debris', 'lymph', 'mono', 'other']\n",
    "    return np.select(conditions, values, default='noise')\n",
    "    \n",
    "flow_labels = find_flow_labels(df_flow)"
   ]
  },
  {
   "cell_type": "code",
   "execution_count": null,
   "metadata": {
    "scrolled": false
   },
   "outputs": [],
   "source": [
    "scatterplot2d(df_flow, col1=flow_cols[0], col2=flow_cols[1], labels=flow_labels)"
   ]
  },
  {
   "cell_type": "code",
   "execution_count": null,
   "metadata": {},
   "outputs": [],
   "source": [
    "df_flow_scaled = df_flow.copy()\n",
    "flow_scaler = StandardScaler()\n",
    "df_flow_scaled[flow_cols] = flow_scaler.fit_transform(df_flow_scaled[flow_cols])"
   ]
  },
  {
   "cell_type": "markdown",
   "metadata": {},
   "source": [
    "#### IS"
   ]
  },
  {
   "cell_type": "code",
   "execution_count": null,
   "metadata": {},
   "outputs": [],
   "source": [
    "# сэмплируем\n",
    "df_is = df_is.sample(1000)"
   ]
  },
  {
   "cell_type": "code",
   "execution_count": null,
   "metadata": {},
   "outputs": [],
   "source": [
    "# разметка субпопуляций вручную\n",
    "def find_is_labels(df):\n",
    "    conditions = [\n",
    "        df['lymph'] <= 1.6, \n",
    "        df['lymph'].between(1.6, 2.4),\n",
    "        df['lymph'] >= 2.4\n",
    "    ]\n",
    "    values = ['low', 'norm', 'hign']\n",
    "    return np.select(conditions, values, default='noise')\n",
    "    \n",
    "is_labels = find_is_labels(df_is)"
   ]
  },
  {
   "cell_type": "code",
   "execution_count": null,
   "metadata": {},
   "outputs": [],
   "source": [
    "df_is_scaled = df_is.copy()\n",
    "is_scaler = StandardScaler()\n",
    "df_is_scaled[is_cols] = is_scaler.fit_transform(df_is_scaled[is_cols])"
   ]
  },
  {
   "cell_type": "code",
   "execution_count": null,
   "metadata": {},
   "outputs": [],
   "source": [
    "scatterplot2d(df_is_scaled, col1='t_lymph_rel', col2='lymph', labels=is_labels)"
   ]
  },
  {
   "cell_type": "markdown",
   "metadata": {},
   "source": [
    "### Основные алгоритмы"
   ]
  },
  {
   "cell_type": "markdown",
   "metadata": {},
   "source": [
    "#### PCA\n",
    "\n",
    "* docs: https://scikit-learn.org/stable/modules/generated/sklearn.decomposition.PCA.html\n",
    "* code: https://github.com/scikit-learn/scikit-learn/blob/95119c13a/sklearn/decomposition/_pca.py#L112\n",
    "    * На основе SVD разложения: https://github.com/scikit-learn/scikit-learn/blob/95119c13a/sklearn/decomposition/_pca.py#L454"
   ]
  },
  {
   "cell_type": "code",
   "execution_count": null,
   "metadata": {},
   "outputs": [],
   "source": [
    "@timeit\n",
    "def run_pca(df, labels=None, plot_type='2d', **kwargs):\n",
    "    pca = PCA(**kwargs)\n",
    "    pca_emb = pca.fit_transform(df)\n",
    "\n",
    "    print('Объясненная дисперсия (кумулятивная):', *np.cumsum(pca.explained_variance_ratio_), sep='\\n')\n",
    "    print('Главные компоненты:', *pca.components_, sep='\\n')\n",
    "    \n",
    "    if plot_type == '2d':\n",
    "        df_pca_emb = pd.DataFrame({'dim1': pca_emb[:, 0], 'dim2': pca_emb[:, 1]})\n",
    "        scatterplot2d(df_pca_emb, col1='dim1', col2='dim2', labels=labels)\n",
    "    elif plot_type == '3d':\n",
    "        df_pca_emb = pd.DataFrame({'dim1': pca_emb[:, 0], 'dim2': pca_emb[:, 1], 'dim3': pca_emb[:, 2]})\n",
    "        scatterplot3d(df_pca_emb, col1='dim1', col2='dim2', col3='dim3', labels=labels)\n",
    "    else:\n",
    "        return None\n",
    "    \n",
    "    return df_pca_emb"
   ]
  },
  {
   "cell_type": "code",
   "execution_count": null,
   "metadata": {},
   "outputs": [],
   "source": [
    "run_pca(df_scurve_scaled, \n",
    "        labels=scurve_labels, \n",
    "        plot_type='2d', \n",
    "        n_components=2, \n",
    "        random_state=SEED);"
   ]
  },
  {
   "cell_type": "code",
   "execution_count": null,
   "metadata": {},
   "outputs": [],
   "source": [
    "run_pca(df_flow_scaled[flow_cols[:5]],  # df_flow_scaled[flow_cols[:2] + flow_cols[4:5]]\n",
    "        labels=flow_labels, \n",
    "        plot_type='2d', \n",
    "        n_components=2, \n",
    "        random_state=SEED);"
   ]
  },
  {
   "cell_type": "code",
   "execution_count": null,
   "metadata": {},
   "outputs": [],
   "source": [
    "run_pca(df_is_scaled,\n",
    "        labels=is_labels, \n",
    "        plot_type='2d', \n",
    "        n_components=2, \n",
    "        random_state=SEED);"
   ]
  },
  {
   "cell_type": "markdown",
   "metadata": {},
   "source": [
    "#### MDS\n",
    "\n",
    "* docs: https://scikit-learn.org/stable/modules/generated/sklearn.manifold.MDS.html#sklearn.manifold.MDS\n",
    "* code: https://github.com/scikit-learn/scikit-learn/blob/95119c13a/sklearn/manifold/_mds.py#L279\n",
    "    * smacof: https://github.com/scikit-learn/scikit-learn/blob/95119c13af77c76e150b753485c662b7c52a41a2/sklearn/manifold/_mds.py#L136\n",
    "    * smacof_single: https://github.com/scikit-learn/scikit-learn/blob/95119c13af77c76e150b753485c662b7c52a41a2/sklearn/manifold/_mds.py#L22"
   ]
  },
  {
   "cell_type": "code",
   "execution_count": null,
   "metadata": {},
   "outputs": [],
   "source": [
    "@timeit\n",
    "def run_mds(df, labels=None, plot_type='2d', **kwargs):\n",
    "    mds = MDS(**kwargs)\n",
    "    mds_emb = mds.fit_transform(df) \n",
    "    \n",
    "    if plot_type == '2d':\n",
    "        df_mds_emb = pd.DataFrame({'dim1': mds_emb[:, 0], 'dim2': mds_emb[:, 1]})\n",
    "        scatterplot2d(df_mds_emb, col1='dim1', col2='dim2', labels=labels)\n",
    "    elif plot_type == '3d':\n",
    "        df_mds_emb = pd.DataFrame({'dim1': mds_emb[:, 0], 'dim2': mds_emb[:, 1], 'dim3': mds_emb[:, 2]})\n",
    "        scatterplot3d(df_mds_emb, col1='dim1', col2='dim2', col3='dim3', labels=labels)\n",
    "    else:\n",
    "        return None\n",
    "    \n",
    "    return df_mds_emb"
   ]
  },
  {
   "cell_type": "code",
   "execution_count": null,
   "metadata": {},
   "outputs": [],
   "source": [
    "run_mds(df_scurve_scaled, \n",
    "        labels=scurve_labels, \n",
    "        plot_type='2d',\n",
    "        n_components=2, \n",
    "        n_jobs=4);"
   ]
  },
  {
   "cell_type": "code",
   "execution_count": null,
   "metadata": {
    "scrolled": false
   },
   "outputs": [],
   "source": [
    "run_mds(df_flow_scaled[flow_cols[:5]],  # df_flow_scaled[flow_cols[:2] + flow_cols[4:5]]\n",
    "        labels=flow_labels, \n",
    "        plot_type='2d',\n",
    "        n_components=3, \n",
    "        n_jobs=4);"
   ]
  },
  {
   "cell_type": "code",
   "execution_count": null,
   "metadata": {},
   "outputs": [],
   "source": [
    "run_mds(df_is_scaled, \n",
    "        labels=is_labels, \n",
    "        plot_type='2d',\n",
    "        n_components=2, \n",
    "        n_jobs=4);"
   ]
  },
  {
   "cell_type": "markdown",
   "metadata": {},
   "source": [
    "#### ISOMAP\n",
    "\n",
    "* docs: https://scikit-learn.org/stable/modules/generated/sklearn.manifold.Isomap.html#sklearn.manifold.Isomap\n",
    "* code: https://github.com/scikit-learn/scikit-learn/blob/95119c13a/sklearn/manifold/_isomap.py#L16\n",
    "    * Вместо MDS загоняют матрицу геодезических расстояний в Kernel PCA, который, вообще говоря, эквивалентен classical MDS"
   ]
  },
  {
   "cell_type": "code",
   "execution_count": null,
   "metadata": {},
   "outputs": [],
   "source": [
    "@timeit\n",
    "def run_isomap(df, labels=None, plot_type='2d', **kwargs):\n",
    "    isomap = Isomap(**kwargs)\n",
    "    isomap_emb = isomap.fit_transform(df) \n",
    "    \n",
    "    if plot_type == '2d':\n",
    "        df_isomap_emb = pd.DataFrame({'dim1': isomap_emb[:, 0], 'dim2': isomap_emb[:, 1]})\n",
    "        scatterplot2d(df_isomap_emb, col1='dim1', col2='dim2', labels=labels)\n",
    "    elif plot_type == '3d':\n",
    "        df_isomap_emb = pd.DataFrame({'dim1': isomap_emb[:, 0], 'dim2': isomap_emb[:, 1], 'dim3': isomap_emb[:, 2]})\n",
    "        scatterplot3d(df_isomap_emb, col1='dim1', col2='dim2', col3='dim3', labels=labels)\n",
    "    else:\n",
    "        return None\n",
    "    \n",
    "    return df_isomap_emb"
   ]
  },
  {
   "cell_type": "code",
   "execution_count": null,
   "metadata": {},
   "outputs": [],
   "source": [
    "run_isomap(df_scurve_scaled, \n",
    "           labels=scurve_labels, \n",
    "           plot_type='2d',\n",
    "           n_neighbors=10,\n",
    "           n_components=2, \n",
    "           n_jobs=4);"
   ]
  },
  {
   "cell_type": "code",
   "execution_count": null,
   "metadata": {},
   "outputs": [],
   "source": [
    "run_isomap(df_flow_scaled[flow_cols[:5]],  # df_flow_scaled[flow_cols[:2] + flow_cols[4:5]]\n",
    "           labels=flow_labels, \n",
    "           plot_type='2d',\n",
    "           n_neighbors=10,\n",
    "           n_components=2, \n",
    "           n_jobs=4);"
   ]
  },
  {
   "cell_type": "code",
   "execution_count": null,
   "metadata": {},
   "outputs": [],
   "source": [
    "run_isomap(df_is_scaled, \n",
    "           labels=is_labels, \n",
    "           plot_type='2d',\n",
    "           n_neighbors=10,\n",
    "           n_components=2, \n",
    "           n_jobs=4);"
   ]
  },
  {
   "cell_type": "markdown",
   "metadata": {},
   "source": [
    "#### LLE\n",
    "\n",
    "* docs: https://scikit-learn.org/stable/modules/generated/sklearn.manifold.LocallyLinearEmbedding.html#sklearn.manifold.LocallyLinearEmbedding\n",
    "* code: https://github.com/scikit-learn/scikit-learn/blob/95119c13a/sklearn/manifold/_locally_linear.py#L525\n",
    "    * https://github.com/scikit-learn/scikit-learn/blob/95119c13af77c76e150b753485c662b7c52a41a2/sklearn/manifold/_locally_linear.py#L193"
   ]
  },
  {
   "cell_type": "code",
   "execution_count": null,
   "metadata": {},
   "outputs": [],
   "source": [
    "@timeit\n",
    "def run_lle(df, labels=None, plot_type='2d', **kwargs):\n",
    "    lle = LocallyLinearEmbedding(**kwargs)\n",
    "    lle_emb = lle.fit_transform(df) \n",
    "    \n",
    "    if plot_type == '2d':\n",
    "        df_lle_emb = pd.DataFrame({'dim1': lle_emb[:, 0], 'dim2': lle_emb[:, 1]})\n",
    "        scatterplot2d(df_lle_emb, col1='dim1', col2='dim2', labels=labels)\n",
    "    elif plot_type == '3d':\n",
    "        df_lle_emb = pd.DataFrame({'dim1': lle_emb[:, 0], 'dim2': lle_emb[:, 1], 'dim3': lle_emb[:, 2]})\n",
    "        scatterplot3d(df_lle_emb, col1='dim1', col2='dim2', col3='dim3', labels=labels)\n",
    "    else:\n",
    "        return None\n",
    "    \n",
    "    return df_lle_emb"
   ]
  },
  {
   "cell_type": "code",
   "execution_count": null,
   "metadata": {},
   "outputs": [],
   "source": [
    "run_lle(df_scurve_scaled, \n",
    "        labels=scurve_labels, \n",
    "        plot_type='2d',\n",
    "        n_neighbors=10,\n",
    "        n_components=2, \n",
    "        random_state=SEED,\n",
    "        n_jobs=4);"
   ]
  },
  {
   "cell_type": "code",
   "execution_count": null,
   "metadata": {},
   "outputs": [],
   "source": [
    "run_lle(df_flow_scaled[flow_cols[:5]],  # df_flow_scaled[flow_cols[:2] + flow_cols[4:5]]\n",
    "        labels=flow_labels, \n",
    "        plot_type='2d',\n",
    "        n_neighbors=15,\n",
    "        n_components=2, \n",
    "        random_state=SEED,\n",
    "        n_jobs=4);"
   ]
  },
  {
   "cell_type": "code",
   "execution_count": null,
   "metadata": {},
   "outputs": [],
   "source": [
    "run_lle(df_is_scaled, \n",
    "        labels=is_labels, \n",
    "        plot_type='2d',\n",
    "        n_neighbors=10,\n",
    "        n_components=2, \n",
    "        random_state=SEED,\n",
    "        n_jobs=4);"
   ]
  },
  {
   "cell_type": "markdown",
   "metadata": {},
   "source": [
    "#### Laplacian eigenmaps (Spectral embedding)\n",
    "\n",
    "* docs: https://scikit-learn.org/stable/modules/generated/sklearn.manifold.SpectralEmbedding.html#sklearn.manifold.SpectralEmbedding\n",
    "* code: https://github.com/scikit-learn/scikit-learn/blob/95119c13a/sklearn/manifold/_spectral_embedding.py#L363\n",
    "    * spectral_embedding: https://github.com/scikit-learn/scikit-learn/blob/95119c13af77c76e150b753485c662b7c52a41a2/sklearn/manifold/_spectral_embedding.py#L145\n",
    "    * На основе scipy.sparse.csgraph.laplacian: https://github.com/scipy/scipy/blob/v1.6.1/scipy/sparse/csgraph/_laplacian.py#L16-L79"
   ]
  },
  {
   "cell_type": "code",
   "execution_count": null,
   "metadata": {},
   "outputs": [],
   "source": [
    "@timeit\n",
    "def run_lap_eig(df, labels=None, plot_type='2d', **kwargs):\n",
    "    lap_eig = SpectralEmbedding(**kwargs)\n",
    "    lap_eig_emb = lap_eig.fit_transform(df) \n",
    "    \n",
    "    if plot_type == '2d':\n",
    "        df_lap_eig_emb = pd.DataFrame({'dim1': lap_eig_emb[:, 0], 'dim2': lap_eig_emb[:, 1]})\n",
    "        scatterplot2d(df_lap_eig_emb, col1='dim1', col2='dim2', labels=labels)\n",
    "    elif plot_type == '3d':\n",
    "        df_lap_eig_emb = pd.DataFrame({'dim1': lap_eig_emb[:, 0], 'dim2': lap_eig_emb[:, 1], 'dim3': lap_eig_emb[:, 2]})\n",
    "        scatterplot3d(df_lap_eig_emb, col1='dim1', col2='dim2', col3='dim3', labels=labels)\n",
    "    else:\n",
    "        return None\n",
    "    \n",
    "    return df_lap_eig_emb"
   ]
  },
  {
   "cell_type": "code",
   "execution_count": null,
   "metadata": {},
   "outputs": [],
   "source": [
    "run_lap_eig(df_scurve_scaled, \n",
    "            labels=scurve_labels, \n",
    "            plot_type='2d',\n",
    "            n_neighbors=10,\n",
    "            n_components=4, \n",
    "            random_state=SEED,\n",
    "            n_jobs=4);"
   ]
  },
  {
   "cell_type": "code",
   "execution_count": null,
   "metadata": {},
   "outputs": [],
   "source": [
    "run_lap_eig(df_flow_scaled[flow_cols[:5]], # df_flow_scaled[flow_cols[:2] + flow_cols[4:5]]\n",
    "            labels=flow_labels, \n",
    "            plot_type='2d',\n",
    "            n_neighbors=10,\n",
    "            n_components=2, \n",
    "            random_state=SEED,\n",
    "            n_jobs=4);"
   ]
  },
  {
   "cell_type": "code",
   "execution_count": null,
   "metadata": {},
   "outputs": [],
   "source": [
    "run_lap_eig(df_is_scaled, \n",
    "            labels=is_labels, \n",
    "            plot_type='2d',\n",
    "            n_neighbors=10,\n",
    "            n_components=2, \n",
    "            random_state=SEED,\n",
    "            n_jobs=4);"
   ]
  },
  {
   "cell_type": "code",
   "execution_count": null,
   "metadata": {},
   "outputs": [],
   "source": []
  }
 ],
 "metadata": {
  "kernelspec": {
   "display_name": "Python 3",
   "language": "python",
   "name": "python3"
  },
  "language_info": {
   "codemirror_mode": {
    "name": "ipython",
    "version": 3
   },
   "file_extension": ".py",
   "mimetype": "text/x-python",
   "name": "python",
   "nbconvert_exporter": "python",
   "pygments_lexer": "ipython3",
   "version": "3.7.5"
  }
 },
 "nbformat": 4,
 "nbformat_minor": 4
}
